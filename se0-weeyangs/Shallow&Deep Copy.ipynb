{
 "cells": [
  {
   "cell_type": "markdown",
   "id": "90f9c33f",
   "metadata": {},
   "source": [
    "# Demo of shallow & deep copy"
   ]
  },
  {
   "cell_type": "code",
   "execution_count": 1,
   "id": "c53e5222",
   "metadata": {},
   "outputs": [],
   "source": [
    "a = [[j*5 + i for i in range(5)] for j in range(5)]"
   ]
  },
  {
   "cell_type": "code",
   "execution_count": 2,
   "id": "536731ce",
   "metadata": {},
   "outputs": [
    {
     "data": {
      "text/plain": [
       "[[0, 1, 2, 3, 4],\n",
       " [5, 6, 7, 8, 9],\n",
       " [10, 11, 12, 13, 14],\n",
       " [15, 16, 17, 18, 19],\n",
       " [20, 21, 22, 23, 24]]"
      ]
     },
     "execution_count": 2,
     "metadata": {},
     "output_type": "execute_result"
    }
   ],
   "source": [
    "a"
   ]
  },
  {
   "cell_type": "markdown",
   "id": "5e42cdf6",
   "metadata": {},
   "source": [
    "Check if elements in the sublists of `a` share the same pointer"
   ]
  },
  {
   "cell_type": "code",
   "execution_count": 3,
   "id": "48e81f3a",
   "metadata": {},
   "outputs": [
    {
     "data": {
      "text/plain": [
       "[[0, 1, 2, 100, 4],\n",
       " [5, 6, 7, 8, 9],\n",
       " [10, 11, 12, 13, 14],\n",
       " [15, 16, 17, 18, 19],\n",
       " [100, 21, 22, 23, 24]]"
      ]
     },
     "execution_count": 3,
     "metadata": {},
     "output_type": "execute_result"
    }
   ],
   "source": [
    "a[0][3] = 100\n",
    "a[4][0] = 100\n",
    "a"
   ]
  },
  {
   "cell_type": "markdown",
   "id": "d3bc9cbe",
   "metadata": {},
   "source": [
    "## `=` operator"
   ]
  },
  {
   "cell_type": "markdown",
   "id": "84e382da",
   "metadata": {},
   "source": [
    "By using `=`, we changed the elements in a list directly. That is, we are operating on the original list. If we use `=` to copy a list, the result is the same. "
   ]
  },
  {
   "cell_type": "code",
   "execution_count": 4,
   "id": "8e80a2f2",
   "metadata": {},
   "outputs": [
    {
     "data": {
      "text/plain": [
       "[[0, 1, 2, 100, 4],\n",
       " [5, 6, 7, 8, 9],\n",
       " [10, 11, 12, 13, 14],\n",
       " [15, 16, 17, 18, 19],\n",
       " [100, 21, 22, 23, 24]]"
      ]
     },
     "execution_count": 4,
     "metadata": {},
     "output_type": "execute_result"
    }
   ],
   "source": [
    "b = a\n",
    "b"
   ]
  },
  {
   "cell_type": "code",
   "execution_count": 5,
   "id": "04fe9655",
   "metadata": {},
   "outputs": [
    {
     "data": {
      "text/plain": [
       "True"
      ]
     },
     "execution_count": 5,
     "metadata": {},
     "output_type": "execute_result"
    }
   ],
   "source": [
    "id(b) == id(a) # check memory location"
   ]
  },
  {
   "cell_type": "markdown",
   "id": "3cdd061b",
   "metadata": {},
   "source": [
    "List `b` and list `a` point to the same location in memory. If we modify `b`, `a` will also be changed."
   ]
  },
  {
   "cell_type": "code",
   "execution_count": 6,
   "id": "922839bb",
   "metadata": {},
   "outputs": [
    {
     "data": {
      "text/plain": [
       "[[100, 1, 2, 100, 4],\n",
       " [5, 6, 7, 8, 9],\n",
       " [10, 11, 12, 13, 14],\n",
       " [15, 16, 17, 18, 19],\n",
       " [100, 21, 22, 23, 24]]"
      ]
     },
     "execution_count": 6,
     "metadata": {},
     "output_type": "execute_result"
    }
   ],
   "source": [
    "b[0][0] = 100\n",
    "a"
   ]
  },
  {
   "cell_type": "markdown",
   "id": "39980641",
   "metadata": {},
   "source": [
    "## `for` loop"
   ]
  },
  {
   "cell_type": "markdown",
   "id": "bfe0077c",
   "metadata": {},
   "source": [
    "Can we use `for loop` to copy `a`? Answer is YES and No. Let's have a look."
   ]
  },
  {
   "cell_type": "code",
   "execution_count": 7,
   "id": "e761f463",
   "metadata": {},
   "outputs": [
    {
     "data": {
      "text/plain": [
       "[[100, 1, 2, 100, 4],\n",
       " [5, 6, 7, 8, 9],\n",
       " [10, 11, 12, 13, 14],\n",
       " [15, 16, 17, 18, 19],\n",
       " [100, 21, 22, 23, 24]]"
      ]
     },
     "execution_count": 7,
     "metadata": {},
     "output_type": "execute_result"
    }
   ],
   "source": [
    "c = []\n",
    "for sub_list in a:\n",
    "    c.append(sub_list)\n",
    "c"
   ]
  },
  {
   "cell_type": "code",
   "execution_count": 8,
   "id": "f2c85418",
   "metadata": {},
   "outputs": [
    {
     "data": {
      "text/plain": [
       "['placeholder',\n",
       " [5, 6, 7, 8, 9],\n",
       " [10, 11, 12, 13, 14],\n",
       " [15, 16, 17, 18, 19],\n",
       " [100, 21, 22, 23, 24]]"
      ]
     },
     "execution_count": 8,
     "metadata": {},
     "output_type": "execute_result"
    }
   ],
   "source": [
    "c[0] = 'placeholder'\n",
    "c"
   ]
  },
  {
   "cell_type": "code",
   "execution_count": 9,
   "id": "66551a7a",
   "metadata": {},
   "outputs": [
    {
     "data": {
      "text/plain": [
       "[[100, 1, 2, 100, 4],\n",
       " [5, 6, 7, 8, 9],\n",
       " [10, 11, 12, 13, 14],\n",
       " [15, 16, 17, 18, 19],\n",
       " [100, 21, 22, 23, 24]]"
      ]
     },
     "execution_count": 9,
     "metadata": {},
     "output_type": "execute_result"
    }
   ],
   "source": [
    "a"
   ]
  },
  {
   "cell_type": "code",
   "execution_count": 10,
   "id": "ddde727b",
   "metadata": {},
   "outputs": [
    {
     "data": {
      "text/plain": [
       "['placeholder',\n",
       " [5, 6, 'surpise!', 8, 9],\n",
       " [10, 11, 12, 13, 14],\n",
       " [15, 16, 17, 18, 19],\n",
       " [100, 21, 22, 23, 24]]"
      ]
     },
     "execution_count": 10,
     "metadata": {},
     "output_type": "execute_result"
    }
   ],
   "source": [
    "c[1][2] = 'surpise!'\n",
    "c"
   ]
  },
  {
   "cell_type": "code",
   "execution_count": 11,
   "id": "5e2c1264",
   "metadata": {},
   "outputs": [
    {
     "data": {
      "text/plain": [
       "[[100, 1, 2, 100, 4],\n",
       " [5, 6, 'surpise!', 8, 9],\n",
       " [10, 11, 12, 13, 14],\n",
       " [15, 16, 17, 18, 19],\n",
       " [100, 21, 22, 23, 24]]"
      ]
     },
     "execution_count": 11,
     "metadata": {},
     "output_type": "execute_result"
    }
   ],
   "source": [
    "a"
   ]
  },
  {
   "cell_type": "markdown",
   "id": "90098d34",
   "metadata": {},
   "source": [
    "What is our conclusion? `for` loop can deep copy the first dimension(where `for` loop directly manipulated) but shallow copy the second dimension. \n",
    "\n",
    "## slice operation\n",
    "\n",
    "What about slice operation Professor Wang mentioned in class? Let's give it a try!"
   ]
  },
  {
   "cell_type": "code",
   "execution_count": 12,
   "id": "4e2d484d",
   "metadata": {},
   "outputs": [
    {
     "data": {
      "text/plain": [
       "[[100, 1, 2, 100, 4],\n",
       " [5, 6, 'surpise!', 8, 9],\n",
       " [10, 11, 12, 13, 14],\n",
       " [15, 16, 17, 18, 19],\n",
       " [100, 21, 22, 23, 24]]"
      ]
     },
     "execution_count": 12,
     "metadata": {},
     "output_type": "execute_result"
    }
   ],
   "source": [
    "d = a[:]\n",
    "d"
   ]
  },
  {
   "cell_type": "code",
   "execution_count": 13,
   "id": "71abfc71",
   "metadata": {},
   "outputs": [
    {
     "data": {
      "text/plain": [
       "[[100, 1, 2, 100, 4],\n",
       " [5, 6, 'surpise!', 8, 9],\n",
       " [10, 11, 12, 13, 14],\n",
       " 'placeholder2',\n",
       " [100, 21, 22, 23, 24]]"
      ]
     },
     "execution_count": 13,
     "metadata": {},
     "output_type": "execute_result"
    }
   ],
   "source": [
    "d[3] = 'placeholder2'\n",
    "d"
   ]
  },
  {
   "cell_type": "code",
   "execution_count": 14,
   "id": "be17796f",
   "metadata": {},
   "outputs": [
    {
     "data": {
      "text/plain": [
       "[[100, 1, 2, 100, 4],\n",
       " [5, 6, 'surpise!', 8, 9],\n",
       " [10, 11, 12, 13, 14],\n",
       " [15, 16, 17, 18, 19],\n",
       " [100, 21, 22, 23, 24]]"
      ]
     },
     "execution_count": 14,
     "metadata": {},
     "output_type": "execute_result"
    }
   ],
   "source": [
    "a"
   ]
  },
  {
   "cell_type": "code",
   "execution_count": 15,
   "id": "d5e7e656",
   "metadata": {},
   "outputs": [
    {
     "data": {
      "text/plain": [
       "[[100, 1, 2, 100, 4],\n",
       " [5, 6, 'surpise!', 8, 9],\n",
       " [10, 11, 12, 13, 14],\n",
       " 'placeholder2',\n",
       " [100, 21, 22, 23, 'guess!']]"
      ]
     },
     "execution_count": 15,
     "metadata": {},
     "output_type": "execute_result"
    }
   ],
   "source": [
    "d[4][4] = 'guess!'\n",
    "d"
   ]
  },
  {
   "cell_type": "code",
   "execution_count": 16,
   "id": "4fdb6ab8",
   "metadata": {},
   "outputs": [
    {
     "data": {
      "text/plain": [
       "[[100, 1, 2, 100, 4],\n",
       " [5, 6, 'surpise!', 8, 9],\n",
       " [10, 11, 12, 13, 14],\n",
       " [15, 16, 17, 18, 19],\n",
       " [100, 21, 22, 23, 'guess!']]"
      ]
     },
     "execution_count": 16,
     "metadata": {},
     "output_type": "execute_result"
    }
   ],
   "source": [
    "a"
   ]
  },
  {
   "cell_type": "markdown",
   "id": "a383e92d",
   "metadata": {},
   "source": [
    "The answer is, the same as we use `for`.  We can deep copy the first dimension where the slice operation directly manipulated. "
   ]
  },
  {
   "cell_type": "markdown",
   "id": "0ac0b9d3",
   "metadata": {},
   "source": [
    "## list.copy() and copy.copy() methods\n",
    "\n",
    "We can also use built-in copy methods to copy a list. And you probably know what would happen if we use copy() :)"
   ]
  },
  {
   "cell_type": "code",
   "execution_count": 17,
   "id": "0950d9be",
   "metadata": {},
   "outputs": [
    {
     "data": {
      "text/plain": [
       "[[100, 1, 2, 100, 4],\n",
       " [5, 6, 'surpise!', 8, 9],\n",
       " [10, 11, 12, 13, 14],\n",
       " [15, 16, 17, 18, 19],\n",
       " [100, 21, 22, 23, 'guess!']]"
      ]
     },
     "execution_count": 17,
     "metadata": {},
     "output_type": "execute_result"
    }
   ],
   "source": [
    "e = a.copy()\n",
    "e"
   ]
  },
  {
   "cell_type": "code",
   "execution_count": 18,
   "id": "7b6c467d",
   "metadata": {},
   "outputs": [
    {
     "data": {
      "text/plain": [
       "['list_copy',\n",
       " [5, 6, 'surpise!', 8, 9],\n",
       " [10, 11, 12, 13, 14],\n",
       " [15, 16, 17, 18, 19],\n",
       " [100, 21, 22, 23, 'guess!']]"
      ]
     },
     "execution_count": 18,
     "metadata": {},
     "output_type": "execute_result"
    }
   ],
   "source": [
    "e[0] = 'list_copy'\n",
    "e"
   ]
  },
  {
   "cell_type": "code",
   "execution_count": 19,
   "id": "e3c926d0",
   "metadata": {},
   "outputs": [
    {
     "data": {
      "text/plain": [
       "[[100, 1, 2, 100, 4],\n",
       " [5, 6, 'surpise!', 8, 9],\n",
       " [10, 11, 12, 13, 14],\n",
       " [15, 16, 17, 18, 19],\n",
       " [100, 21, 22, 23, 'guess!']]"
      ]
     },
     "execution_count": 19,
     "metadata": {},
     "output_type": "execute_result"
    }
   ],
   "source": [
    "a"
   ]
  },
  {
   "cell_type": "code",
   "execution_count": 20,
   "id": "4e5871df",
   "metadata": {},
   "outputs": [
    {
     "data": {
      "text/plain": [
       "['list_copy',\n",
       " [5, 6, 'surpise!', 8, 9],\n",
       " ['list_copy', 11, 12, 13, 14],\n",
       " [15, 16, 17, 18, 19],\n",
       " [100, 21, 22, 23, 'guess!']]"
      ]
     },
     "execution_count": 20,
     "metadata": {},
     "output_type": "execute_result"
    }
   ],
   "source": [
    "e[2][0] = 'list_copy'\n",
    "e"
   ]
  },
  {
   "cell_type": "code",
   "execution_count": 21,
   "id": "e566d856",
   "metadata": {},
   "outputs": [
    {
     "data": {
      "text/plain": [
       "[[100, 1, 2, 100, 4],\n",
       " [5, 6, 'surpise!', 8, 9],\n",
       " ['list_copy', 11, 12, 13, 14],\n",
       " [15, 16, 17, 18, 19],\n",
       " [100, 21, 22, 23, 'guess!']]"
      ]
     },
     "execution_count": 21,
     "metadata": {},
     "output_type": "execute_result"
    }
   ],
   "source": [
    "a"
   ]
  },
  {
   "cell_type": "code",
   "execution_count": 22,
   "id": "079bc6ea",
   "metadata": {},
   "outputs": [
    {
     "data": {
      "text/plain": [
       "[[100, 1, 2, 100, 4],\n",
       " [5, 6, 'surpise!', 8, 9],\n",
       " ['list_copy', 11, 12, 13, 14],\n",
       " [15, 16, 17, 18, 19],\n",
       " [100, 21, 22, 23, 'guess!']]"
      ]
     },
     "execution_count": 22,
     "metadata": {},
     "output_type": "execute_result"
    }
   ],
   "source": [
    "import copy\n",
    "f = copy.copy(a)\n",
    "f"
   ]
  },
  {
   "cell_type": "code",
   "execution_count": 23,
   "id": "3d173884",
   "metadata": {},
   "outputs": [
    {
     "data": {
      "text/plain": [
       "[[100, 1, 2, 100, 4],\n",
       " [5, 6, 'surpise!', 8, 9],\n",
       " ['list_copy', 11, 12, 13, 14],\n",
       " 'copy.copy',\n",
       " [100, 21, 22, 23, 'guess!']]"
      ]
     },
     "execution_count": 23,
     "metadata": {},
     "output_type": "execute_result"
    }
   ],
   "source": [
    "f[3] = 'copy.copy'\n",
    "f"
   ]
  },
  {
   "cell_type": "code",
   "execution_count": 24,
   "id": "8c7d0e23",
   "metadata": {},
   "outputs": [
    {
     "data": {
      "text/plain": [
       "[[100, 1, 'copy.copy', 100, 4],\n",
       " [5, 6, 'surpise!', 8, 9],\n",
       " ['list_copy', 11, 12, 13, 14],\n",
       " 'copy.copy',\n",
       " [100, 21, 22, 23, 'guess!']]"
      ]
     },
     "execution_count": 24,
     "metadata": {},
     "output_type": "execute_result"
    }
   ],
   "source": [
    "f[0][2] = 'copy.copy'\n",
    "f"
   ]
  },
  {
   "cell_type": "code",
   "execution_count": 25,
   "id": "18ec21da",
   "metadata": {
    "scrolled": true
   },
   "outputs": [
    {
     "data": {
      "text/plain": [
       "[[100, 1, 'copy.copy', 100, 4],\n",
       " [5, 6, 'surpise!', 8, 9],\n",
       " ['list_copy', 11, 12, 13, 14],\n",
       " [15, 16, 17, 18, 19],\n",
       " [100, 21, 22, 23, 'guess!']]"
      ]
     },
     "execution_count": 25,
     "metadata": {},
     "output_type": "execute_result"
    }
   ],
   "source": [
    "a"
   ]
  },
  {
   "cell_type": "markdown",
   "id": "c03c9b76",
   "metadata": {},
   "source": [
    "## copy.deepcopy() \n",
    "\n",
    "If you want to deepcopy accross all dimensions quickly, a good approach is to use deepcopy. "
   ]
  },
  {
   "cell_type": "code",
   "execution_count": 26,
   "id": "0ee5e291",
   "metadata": {},
   "outputs": [
    {
     "data": {
      "text/plain": [
       "[[100, 1, 'copy.copy', 100, 4],\n",
       " [5, 6, 'surpise!', 8, 9],\n",
       " ['list_copy', 11, 12, 13, 14],\n",
       " [15, 16, 17, 18, 19],\n",
       " [100, 21, 22, 23, 'guess!']]"
      ]
     },
     "execution_count": 26,
     "metadata": {},
     "output_type": "execute_result"
    }
   ],
   "source": [
    "g = copy.deepcopy(a)\n",
    "g"
   ]
  },
  {
   "cell_type": "code",
   "execution_count": 27,
   "id": "7884db27",
   "metadata": {},
   "outputs": [
    {
     "data": {
      "text/plain": [
       "[[100, 1, 'copy.copy', 100, 4],\n",
       " [5, 6, 'surpise!', 8, 9],\n",
       " ['list_copy', 11, 12, 13, 14],\n",
       " 'deep_copy',\n",
       " [100, 21, 22, 23, 'guess!']]"
      ]
     },
     "execution_count": 27,
     "metadata": {},
     "output_type": "execute_result"
    }
   ],
   "source": [
    "g[3] = 'deep_copy'\n",
    "g"
   ]
  },
  {
   "cell_type": "code",
   "execution_count": 28,
   "id": "b9dc0949",
   "metadata": {},
   "outputs": [
    {
     "data": {
      "text/plain": [
       "[[100, 1, 'copy.copy', 100, 4],\n",
       " [5, 6, 'surpise!', 8, 9],\n",
       " ['list_copy', 11, 12, 13, 14],\n",
       " [15, 16, 17, 18, 19],\n",
       " [100, 21, 22, 23, 'guess!']]"
      ]
     },
     "execution_count": 28,
     "metadata": {},
     "output_type": "execute_result"
    }
   ],
   "source": [
    "a"
   ]
  },
  {
   "cell_type": "code",
   "execution_count": 29,
   "id": "78a656cd",
   "metadata": {},
   "outputs": [
    {
     "data": {
      "text/plain": [
       "[[100, 1, 'copy.copy', 100, 4],\n",
       " [5, 6, 'surpise!', 8, 9],\n",
       " ['list_copy', 11, 12, 13, 14],\n",
       " 'deep_copy',\n",
       " ['deep_copy', 21, 22, 23, 'guess!']]"
      ]
     },
     "execution_count": 29,
     "metadata": {},
     "output_type": "execute_result"
    }
   ],
   "source": [
    "g[4][0] = 'deep_copy'\n",
    "g"
   ]
  },
  {
   "cell_type": "code",
   "execution_count": 30,
   "id": "e6e391fa",
   "metadata": {},
   "outputs": [
    {
     "data": {
      "text/plain": [
       "[[100, 1, 'copy.copy', 100, 4],\n",
       " [5, 6, 'surpise!', 8, 9],\n",
       " ['list_copy', 11, 12, 13, 14],\n",
       " [15, 16, 17, 18, 19],\n",
       " [100, 21, 22, 23, 'guess!']]"
      ]
     },
     "execution_count": 30,
     "metadata": {},
     "output_type": "execute_result"
    }
   ],
   "source": [
    "a"
   ]
  },
  {
   "cell_type": "markdown",
   "id": "4544e445",
   "metadata": {},
   "source": [
    "In this case and only in this case, the copied list is totally independent from the original one. "
   ]
  },
  {
   "cell_type": "code",
   "execution_count": null,
   "id": "1a4b9e97",
   "metadata": {},
   "outputs": [],
   "source": []
  }
 ],
 "metadata": {
  "kernelspec": {
   "display_name": "Python 3 (ipykernel)",
   "language": "python",
   "name": "python3"
  },
  "language_info": {
   "codemirror_mode": {
    "name": "ipython",
    "version": 3
   },
   "file_extension": ".py",
   "mimetype": "text/x-python",
   "name": "python",
   "nbconvert_exporter": "python",
   "pygments_lexer": "ipython3",
   "version": "3.8.5"
  }
 },
 "nbformat": 4,
 "nbformat_minor": 5
}
