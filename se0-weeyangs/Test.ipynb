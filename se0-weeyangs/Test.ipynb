{
 "cells": [
  {
   "cell_type": "code",
   "execution_count": 1,
   "metadata": {},
   "outputs": [],
   "source": [
    "lst0 = []\n",
    "lst1 = [1, \"abc\", 5.7, [1, 3, 5]]\n",
    "lst2 = [10, 11, 12, 13, 14, 15, 16]\n",
    "lst3 = [7, -5, 6, 27, -3, 0, 14]\n",
    "lst4 = [0, 1, 1, 3, 2, 4, 6, 1, 7, 8]"
   ]
  },
  {
   "cell_type": "code",
   "execution_count": 3,
   "metadata": {},
   "outputs": [],
   "source": [
    "lst5 = [7, \"xyz\", 2.7]"
   ]
  },
  {
   "cell_type": "code",
   "execution_count": 4,
   "metadata": {},
   "outputs": [
    {
     "data": {
      "text/plain": [
       "4"
      ]
     },
     "execution_count": 4,
     "metadata": {},
     "output_type": "execute_result"
    }
   ],
   "source": [
    "len(lst1)"
   ]
  },
  {
   "cell_type": "code",
   "execution_count": 6,
   "metadata": {},
   "outputs": [
    {
     "data": {
      "text/plain": [
       "5.7"
      ]
     },
     "execution_count": 6,
     "metadata": {},
     "output_type": "execute_result"
    }
   ],
   "source": [
    "lst1[2]"
   ]
  },
  {
   "cell_type": "code",
   "execution_count": 8,
   "metadata": {},
   "outputs": [
    {
     "data": {
      "text/plain": [
       "16"
      ]
     },
     "execution_count": 8,
     "metadata": {},
     "output_type": "execute_result"
    }
   ],
   "source": [
    "lst2[-1]"
   ]
  },
  {
   "cell_type": "code",
   "execution_count": 10,
   "metadata": {},
   "outputs": [
    {
     "data": {
      "text/plain": [
       "5"
      ]
     },
     "execution_count": 10,
     "metadata": {},
     "output_type": "execute_result"
    }
   ],
   "source": [
    "lst1[3][2]"
   ]
  },
  {
   "cell_type": "code",
   "execution_count": 11,
   "metadata": {},
   "outputs": [],
   "source": [
    "lst1[2] = \"xyz\""
   ]
  },
  {
   "cell_type": "code",
   "execution_count": 12,
   "metadata": {},
   "outputs": [
    {
     "data": {
      "text/plain": [
       "[1, 'abc', 'xyz', [1, 3, 5]]"
      ]
     },
     "execution_count": 12,
     "metadata": {},
     "output_type": "execute_result"
    }
   ],
   "source": [
    "lst1"
   ]
  },
  {
   "cell_type": "code",
   "execution_count": 13,
   "metadata": {},
   "outputs": [],
   "source": [
    "lst1[3][1] = 15.0"
   ]
  },
  {
   "cell_type": "code",
   "execution_count": 14,
   "metadata": {},
   "outputs": [
    {
     "data": {
      "text/plain": [
       "[1, 'abc', 'xyz', [1, 15.0, 5]]"
      ]
     },
     "execution_count": 14,
     "metadata": {},
     "output_type": "execute_result"
    }
   ],
   "source": [
    "lst1"
   ]
  },
  {
   "cell_type": "code",
   "execution_count": 15,
   "metadata": {},
   "outputs": [
    {
     "data": {
      "text/plain": [
       "[1, 'abc', 'xyz']"
      ]
     },
     "execution_count": 15,
     "metadata": {},
     "output_type": "execute_result"
    }
   ],
   "source": [
    "lst1[:3]"
   ]
  },
  {
   "cell_type": "code",
   "execution_count": 17,
   "metadata": {},
   "outputs": [
    {
     "data": {
      "text/plain": [
       "[11, 12, 13, 14, 15]"
      ]
     },
     "execution_count": 17,
     "metadata": {},
     "output_type": "execute_result"
    }
   ],
   "source": [
    "lst2[1:6]"
   ]
  },
  {
   "cell_type": "code",
   "execution_count": 18,
   "metadata": {},
   "outputs": [
    {
     "data": {
      "text/plain": [
       "[10, 11, 12]"
      ]
     },
     "execution_count": 18,
     "metadata": {},
     "output_type": "execute_result"
    }
   ],
   "source": [
    "lst2[:3]"
   ]
  },
  {
   "cell_type": "code",
   "execution_count": 19,
   "metadata": {},
   "outputs": [
    {
     "data": {
      "text/plain": [
       "[11, 12, 13, 14, 15, 16]"
      ]
     },
     "execution_count": 19,
     "metadata": {},
     "output_type": "execute_result"
    }
   ],
   "source": [
    "lst2[1:]"
   ]
  },
  {
   "cell_type": "code",
   "execution_count": 24,
   "metadata": {},
   "outputs": [],
   "source": [
    "lst0 = lst2[:4]"
   ]
  },
  {
   "cell_type": "code",
   "execution_count": 26,
   "metadata": {},
   "outputs": [
    {
     "data": {
      "text/plain": [
       "13"
      ]
     },
     "execution_count": 26,
     "metadata": {},
     "output_type": "execute_result"
    }
   ],
   "source": [
    "lst0\n",
    "lst0[3]"
   ]
  },
  {
   "cell_type": "code",
   "execution_count": 27,
   "metadata": {},
   "outputs": [],
   "source": [
    "nl = lst2 + lst3"
   ]
  },
  {
   "cell_type": "code",
   "execution_count": 28,
   "metadata": {},
   "outputs": [
    {
     "data": {
      "text/plain": [
       "[10, 11, 12, 13, 14, 15, 16, 7, -5, 6, 27, -3, 0, 14]"
      ]
     },
     "execution_count": 28,
     "metadata": {},
     "output_type": "execute_result"
    }
   ],
   "source": [
    "nl"
   ]
  },
  {
   "cell_type": "code",
   "execution_count": 29,
   "metadata": {},
   "outputs": [],
   "source": [
    "nl[3] = 55"
   ]
  },
  {
   "cell_type": "code",
   "execution_count": 30,
   "metadata": {},
   "outputs": [
    {
     "data": {
      "text/plain": [
       "[10, 11, 12, 55, 14, 15, 16, 7, -5, 6, 27, -3, 0, 14]"
      ]
     },
     "execution_count": 30,
     "metadata": {},
     "output_type": "execute_result"
    }
   ],
   "source": [
    "nl"
   ]
  },
  {
   "cell_type": "code",
   "execution_count": 32,
   "metadata": {},
   "outputs": [],
   "source": [
    "def is_even(n):\n",
    "    if (n % 2) == 1:\n",
    "        print(n, \"is odd\")\n",
    "    else:\n",
    "        print(n, \"is even\")"
   ]
  },
  {
   "cell_type": "code",
   "execution_count": 33,
   "metadata": {},
   "outputs": [
    {
     "name": "stdout",
     "output_type": "stream",
     "text": [
      "3 is odd\n"
     ]
    }
   ],
   "source": [
    "is_even(3)"
   ]
  },
  {
   "cell_type": "code",
   "execution_count": 34,
   "metadata": {},
   "outputs": [
    {
     "name": "stdout",
     "output_type": "stream",
     "text": [
      "1\n",
      "4\n",
      "8\n",
      "9\n",
      "11\n"
     ]
    }
   ],
   "source": [
    "for n in [1, 4, 8, 9, 11]:\n",
    "    print(n)"
   ]
  },
  {
   "cell_type": "code",
   "execution_count": 35,
   "metadata": {},
   "outputs": [
    {
     "name": "stdout",
     "output_type": "stream",
     "text": [
      "1 is odd\n",
      "2 is even\n",
      "3 is odd\n",
      "4 is even\n",
      "5 is odd\n",
      "6 is even\n",
      "7 is odd\n",
      "8 is even\n",
      "9 is odd\n",
      "10 is even\n",
      "11 is odd\n",
      "12 is even\n",
      "13 is odd\n",
      "14 is even\n",
      "15 is odd\n",
      "16 is even\n",
      "17 is odd\n",
      "18 is even\n",
      "19 is odd\n",
      "20 is even\n"
     ]
    }
   ],
   "source": [
    "for n in range(1, 21):    \n",
    "    if (n % 2) == 1:\n",
    "        print(n, \"is odd\")\n",
    "    else:\n",
    "        print(n, \"is even\")"
   ]
  },
  {
   "cell_type": "code",
   "execution_count": null,
   "metadata": {},
   "outputs": [],
   "source": [
    "# use break to stop loops"
   ]
  },
  {
   "cell_type": "code",
   "execution_count": 36,
   "metadata": {},
   "outputs": [
    {
     "name": "stdout",
     "output_type": "stream",
     "text": [
      "55\n"
     ]
    }
   ],
   "source": [
    "N = 10\n",
    "i = 1\n",
    "sum = 0\n",
    "\n",
    "while i <= N:\n",
    "    sum = sum + i\n",
    "    i = i + 1\n",
    "    \n",
    "print(sum)"
   ]
  },
  {
   "cell_type": "code",
   "execution_count": 37,
   "metadata": {},
   "outputs": [
    {
     "name": "stdout",
     "output_type": "stream",
     "text": [
      "11\n"
     ]
    }
   ],
   "source": [
    "print(i)"
   ]
  },
  {
   "cell_type": "code",
   "execution_count": 96,
   "metadata": {},
   "outputs": [],
   "source": [
    "def is_prime(n):\n",
    "    if n > 1:\n",
    "        i = n - 1\n",
    "        while i > 0:\n",
    "            if i == 1:\n",
    "                print(n, \"is a prime number\")\n",
    "            elif (n % i) == 0:\n",
    "                print(n, \"is not a prime number\") \n",
    "                break\n",
    "            i = i-1\n",
    "    else:\n",
    "        print(n, \"is not a prime number\")"
   ]
  },
  {
   "cell_type": "code",
   "execution_count": 97,
   "metadata": {},
   "outputs": [
    {
     "name": "stdout",
     "output_type": "stream",
     "text": [
      "10 is not a prime number\n"
     ]
    }
   ],
   "source": [
    "is_prime(10)"
   ]
  },
  {
   "cell_type": "code",
   "execution_count": 99,
   "metadata": {},
   "outputs": [
    {
     "name": "stdout",
     "output_type": "stream",
     "text": [
      "13 is a prime number\n"
     ]
    }
   ],
   "source": [
    "is_prime(13)"
   ]
  },
  {
   "cell_type": "code",
   "execution_count": 75,
   "metadata": {},
   "outputs": [
    {
     "name": "stdout",
     "output_type": "stream",
     "text": [
      "He said: \"she argues: 'hello, world'\"\n"
     ]
    }
   ],
   "source": [
    "print(\"He said: \\\"she argues: \\'hello, world\\'\\\"\")"
   ]
  },
  {
   "cell_type": "code",
   "execution_count": 102,
   "metadata": {},
   "outputs": [
    {
     "name": "stdout",
     "output_type": "stream",
     "text": [
      "5\n",
      "6\n",
      "7\n",
      "8\n",
      "9\n"
     ]
    }
   ],
   "source": [
    "for i in range(5,10):\n",
    "    print(i)"
   ]
  },
  {
   "cell_type": "code",
   "execution_count": 103,
   "metadata": {},
   "outputs": [],
   "source": [
    "lst = [\"hello\",\"bye\",\"yellow\",\"blue\",\"green\"]"
   ]
  },
  {
   "cell_type": "code",
   "execution_count": 106,
   "metadata": {},
   "outputs": [
    {
     "data": {
      "text/plain": [
       "[(0, 'hello'), (1, 'bye'), (2, 'yellow'), (3, 'blue'), (4, 'green')]"
      ]
     },
     "execution_count": 106,
     "metadata": {},
     "output_type": "execute_result"
    }
   ],
   "source": [
    "list(enumerate(lst))"
   ]
  },
  {
   "cell_type": "code",
   "execution_count": 107,
   "metadata": {},
   "outputs": [
    {
     "name": "stdout",
     "output_type": "stream",
     "text": [
      "Return type: <class 'enumerate'>\n"
     ]
    }
   ],
   "source": [
    "print (\"Return type:\", type(enumerate(lst)))"
   ]
  },
  {
   "cell_type": "code",
   "execution_count": 114,
   "metadata": {},
   "outputs": [
    {
     "name": "stdout",
     "output_type": "stream",
     "text": [
      "y = 1\n",
      "y = abc\n",
      "y = 5.7\n",
      "y = [1, 3, 5]\n"
     ]
    }
   ],
   "source": [
    "lst1 = [1, \"abc\", 5.7, [1, 3, 5]]\n",
    "for y in lst1:\n",
    "   print(f\"y = {y}\")"
   ]
  },
  {
   "cell_type": "code",
   "execution_count": 126,
   "metadata": {},
   "outputs": [],
   "source": [
    "lst3 = [544,1231,-3432,5435,123]\n",
    "\n",
    "allpos = True\n",
    "\n",
    "for i in lst3:\n",
    "    if i >= 0:\n",
    "        continue\n",
    "    else: allpos = False\n",
    "    break"
   ]
  },
  {
   "cell_type": "code",
   "execution_count": 127,
   "metadata": {},
   "outputs": [
    {
     "data": {
      "text/plain": [
       "False"
      ]
     },
     "execution_count": 127,
     "metadata": {},
     "output_type": "execute_result"
    }
   ],
   "source": [
    "allpos"
   ]
  },
  {
   "cell_type": "code",
   "execution_count": 128,
   "metadata": {},
   "outputs": [],
   "source": [
    "pos_only = []\n",
    "\n",
    "for n in lst3:\n",
    "    if n >= 0:\n",
    "        pos_only.append(n) "
   ]
  },
  {
   "cell_type": "code",
   "execution_count": 129,
   "metadata": {},
   "outputs": [
    {
     "data": {
      "text/plain": [
       "[544, 1231, 5435, 123]"
      ]
     },
     "execution_count": 129,
     "metadata": {},
     "output_type": "execute_result"
    }
   ],
   "source": [
    "pos_only"
   ]
  },
  {
   "cell_type": "code",
   "execution_count": 132,
   "metadata": {},
   "outputs": [],
   "source": [
    "ispos = []\n",
    "\n",
    "for n in lst3:\n",
    "    if n >= 0:\n",
    "        ispos.append(True)\n",
    "    else: ispos.append(False)"
   ]
  },
  {
   "cell_type": "code",
   "execution_count": 133,
   "metadata": {},
   "outputs": [
    {
     "data": {
      "text/plain": [
       "[True, True, False, True, True]"
      ]
     },
     "execution_count": 133,
     "metadata": {},
     "output_type": "execute_result"
    }
   ],
   "source": [
    "ispos"
   ]
  },
  {
   "cell_type": "code",
   "execution_count": 250,
   "metadata": {},
   "outputs": [],
   "source": [
    "def number_counts(lst):\n",
    "    x = 0\n",
    "    counts = [0] * (max(lst) + 1)\n",
    "    for i in lst:\n",
    "        counts[i] = counts[i] + 1\n",
    "    return counts\n",
    "            \n",
    "   \n",
    "    \n",
    "            "
   ]
  },
  {
   "cell_type": "code",
   "execution_count": 251,
   "metadata": {},
   "outputs": [],
   "source": [
    "lst4 = [0, 1, 1, 3, 2, 4, 6, 1, 7, 8]"
   ]
  },
  {
   "cell_type": "code",
   "execution_count": 252,
   "metadata": {},
   "outputs": [
    {
     "data": {
      "text/plain": [
       "[1, 3, 1, 1, 1, 0, 1, 1, 1]"
      ]
     },
     "execution_count": 252,
     "metadata": {},
     "output_type": "execute_result"
    }
   ],
   "source": [
    "number_counts(lst4)"
   ]
  },
  {
   "cell_type": "code",
   "execution_count": 253,
   "metadata": {
    "scrolled": true
   },
   "outputs": [
    {
     "name": "stdout",
     "output_type": "stream",
     "text": [
      "[1, 3, 1, 1, 1, 0, 1, 1, 1]\n"
     ]
    }
   ],
   "source": [
    "print(number_counts(lst4))"
   ]
  },
  {
   "cell_type": "code",
   "execution_count": 270,
   "metadata": {},
   "outputs": [],
   "source": [
    "def f(x):\n",
    "    '''\n",
    "    Real valued square function  f(x) == x^2\n",
    "    '''\n",
    "\n",
    "    return x*x\n",
    "\n",
    "\n",
    "def integrate():\n",
    "    ''' Integrate the function f using the rectangle method '''\n",
    "    total_area = 0\n",
    "    N = 10 # where N is number of rectangles\n",
    "    width = 1 / N\n",
    "    height = 0\n",
    "    for i in range(0, N):\n",
    "        height = f(1 / N * i)\n",
    "        rect_area = width * height\n",
    "        total_area = total_area + rect_area\n",
    "    \n",
    "    ### DO NOT MODIFY THE FOLLOWING LINE!\n",
    "    return total_area"
   ]
  },
  {
   "cell_type": "code",
   "execution_count": 271,
   "metadata": {},
   "outputs": [
    {
     "data": {
      "text/plain": [
       "0.2850000000000001"
      ]
     },
     "execution_count": 271,
     "metadata": {},
     "output_type": "execute_result"
    }
   ],
   "source": [
    "integrate()"
   ]
  },
  {
   "cell_type": "markdown",
   "metadata": {},
   "source": [
    "SE1 Assignment"
   ]
  },
  {
   "cell_type": "code",
   "execution_count": 272,
   "metadata": {},
   "outputs": [],
   "source": [
    "def add_one_and_multiply(a, x):\n",
    "    \"\"\" Add 1 to a, and multiply by x\"\"\"\n",
    "\n",
    "    ### EXERCISE 1 -- YOUR CODE GOES HERE\n",
    "    # Replace \"None\" with the correct expression\n",
    "    r = (a+1)*x\n",
    "\n",
    "    ### DO NOT MODIFY THE FOLLOWING LINE!\n",
    "    return r"
   ]
  },
  {
   "cell_type": "code",
   "execution_count": 273,
   "metadata": {},
   "outputs": [
    {
     "data": {
      "text/plain": [
       "12"
      ]
     },
     "execution_count": 273,
     "metadata": {},
     "output_type": "execute_result"
    }
   ],
   "source": [
    "add_one_and_multiply(5, 2)"
   ]
  },
  {
   "cell_type": "code",
   "execution_count": 274,
   "metadata": {},
   "outputs": [],
   "source": [
    "def out_of_range(x, lb, ub):\n",
    "    \"\"\" Is x outside the range lb to ub (inclusive)?\"\"\"\n",
    "\n",
    "    ### EXERCISE 2 -- YOUR CODE GOES HERE\n",
    "    # Replace \"None\" with the correct expression\n",
    "    r = True\n",
    "    lowerlimit = lb\n",
    "    upperlimit = ub\n",
    "    if lb > ub:\n",
    "        lowerlimit = ub\n",
    "        upperlimit = lb\n",
    "    if x >= lowerlimit and x <= upperlimit:\n",
    "        r = False\n",
    "\n",
    "    ### DO NOT MODIFY THE FOLLOWING LINE!\n",
    "    return r"
   ]
  },
  {
   "cell_type": "code",
   "execution_count": 281,
   "metadata": {},
   "outputs": [],
   "source": [
    "def number_string(x):\n",
    "    \"\"\"\n",
    "    Given a number x, produce a string: \"POSITIVE\", \"NEGATIVE\", \"ZERO\"\n",
    "    (depending on whether the number is positive, negative, or zero)\n",
    "    \"\"\"\n",
    "\n",
    "    ### EXERCISE 3 -- YOUR CODE GOES HERE\n",
    "    # Replace the following line with your code.\n",
    "    # After running your code, variable s should contain the value\n",
    "    # we ask you to compute in this exercise.\n",
    "    s = None\n",
    "    if x > 0:\n",
    "        s = \"POSITIVE\"\n",
    "    if x == 0:\n",
    "        s = \"ZERO\"\n",
    "    if x < 0:\n",
    "        s = \"NEGATIVE\"\n",
    "\n",
    "    ### DO NOT MODIFY THE FOLLOWING LINE!\n",
    "    return s"
   ]
  },
  {
   "cell_type": "code",
   "execution_count": 288,
   "metadata": {},
   "outputs": [],
   "source": [
    "def num_divisible(lb, ub, p, q):\n",
    "    \"\"\"\n",
    "    How many numbers between lb and ub (inclusive) are divisible by p\n",
    "    or divisible by q, but not divisible by both p and q.\n",
    "    \"\"\"\n",
    "\n",
    "    ### EXERCISE 4 -- YOUR CODE GOES HERE\n",
    "    # Replace the following line with your code.\n",
    "    # After running your code, variable n should contain the value\n",
    "    # we ask you to compute in this exercise.\n",
    "    n = 0\n",
    "    lowerlimit = lb\n",
    "    upperlimit = ub\n",
    "    if lb > ub:\n",
    "        lowerlimit = ub\n",
    "        upperlimit = lb\n",
    "    for i in range(lowerlimit,upperlimit + 1):\n",
    "        if (i % q == 0 or i % p == 0) and not (i % q == 0 and i % p == 0):\n",
    "            n = n + 1\n",
    "        \n",
    "    ### DO NOT MODIFY THE FOLLOWING LINE!\n",
    "    return n"
   ]
  },
  {
   "cell_type": "code",
   "execution_count": 291,
   "metadata": {},
   "outputs": [],
   "source": [
    "def count_greater_than_val(lst, val):\n",
    "    \"\"\"\n",
    "    Count the number of numbers in the list that are strictly greater than the value of val.\n",
    "    \"\"\"\n",
    "\n",
    "    ### EXERCISE 5 -- YOUR CODE GOES HERE\n",
    "    # Replace the following line with your code.\n",
    "    # After running your code, variable n should contain the value\n",
    "    # we ask you to compute in this exercise.\n",
    "    n = 0\n",
    "    for item in lst:\n",
    "        if item > val:\n",
    "            n = n + 1\n",
    "\n",
    "    ### DO NOT MODIFY THE FOLLOWING LINE!\n",
    "    return n"
   ]
  },
  {
   "cell_type": "code",
   "execution_count": 293,
   "metadata": {},
   "outputs": [
    {
     "data": {
      "text/plain": [
       "1"
      ]
     },
     "execution_count": 293,
     "metadata": {},
     "output_type": "execute_result"
    }
   ],
   "source": [
    "count_greater_than_val([-1, -2, -3, -4,5], 0)"
   ]
  },
  {
   "cell_type": "code",
   "execution_count": 294,
   "metadata": {},
   "outputs": [],
   "source": [
    "def negate_list(lst):\n",
    "    \"\"\"\n",
    "    Produce a *new* list with its values negated\n",
    "    \"\"\"\n",
    "\n",
    "    ### EXERCISE 6 -- YOUR CODE GOES HERE\n",
    "    # Replace the following line with your code.\n",
    "    # After running your code, variable n should contain the value\n",
    "    # we ask you to compute in this exercise\n",
    "    new_lst = []\n",
    "    for item in lst:\n",
    "        new_lst.append(-item)\n",
    "\n",
    "    ### DO NOT MODIFY THE FOLLOWING LINE!\n",
    "    return new_lst"
   ]
  },
  {
   "cell_type": "code",
   "execution_count": 295,
   "metadata": {},
   "outputs": [
    {
     "data": {
      "text/plain": [
       "[1, -2, 3, -4]"
      ]
     },
     "execution_count": 295,
     "metadata": {},
     "output_type": "execute_result"
    }
   ],
   "source": [
    "negate_list([-1, 2, -3, 4])"
   ]
  },
  {
   "cell_type": "code",
   "execution_count": null,
   "metadata": {},
   "outputs": [],
   "source": [
    "py.test\n",
    "../common/grader.py"
   ]
  }
 ],
 "metadata": {
  "kernelspec": {
   "display_name": "Python 3",
   "language": "python",
   "name": "python3"
  },
  "language_info": {
   "codemirror_mode": {
    "name": "ipython",
    "version": 3
   },
   "file_extension": ".py",
   "mimetype": "text/x-python",
   "name": "python",
   "nbconvert_exporter": "python",
   "pygments_lexer": "ipython3",
   "version": "3.8.5"
  }
 },
 "nbformat": 4,
 "nbformat_minor": 4
}
